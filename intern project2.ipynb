{
 "cells": [
  {
   "cell_type": "markdown",
   "metadata": {},
   "source": [
    "# Finding error from the files after data quality managing process. "
   ]
  },
  {
   "cell_type": "code",
   "execution_count": 59,
   "metadata": {},
   "outputs": [],
   "source": [
    "import pandas as pd\n",
    "import numpy as np\n",
    "import dataframe as df\n",
    "import openpyxl\n",
    "from pandas import Series, DataFrame"
   ]
  },
  {
   "cell_type": "code",
   "execution_count": 91,
   "metadata": {},
   "outputs": [],
   "source": [
    "domain = pd.read_excel(\"sheet_nabse.xlsx\", sheet_name=\"(룰설정)도메인\")\n",
    "\n",
    "cham = pd.read_excel(\"sheet_nabse.xlsx\", sheet_name=\"(룰설정)참조무결성\")\n",
    "\n",
    "up = pd.read_excel(\"sheet_nabse.xlsx\", sheet_name=\"(룰설정)업무규칙\")\n",
    "\n",
    "jindan = pd.read_excel(\"sheet_nabse.xlsx\", sheet_name= \"(진단실행)진단항목오류정보\")"
   ]
  },
  {
   "cell_type": "markdown",
   "metadata": {},
   "source": [
    "## 1. sheet of (룰설정)도메인 : verify XOR rows of two columns"
   ]
  },
  {
   "cell_type": "code",
   "execution_count": 92,
   "metadata": {},
   "outputs": [],
   "source": [
    "# 검증률명 도메인 둘 중에 하나만 있으면 비정상. \n",
    "for i in range(len(domain)):\n",
    "    find1= bool(domain['검증룰명'][i])\n",
    "    find2 = bool(domain['도메인'][i])\n",
    "    if (find1 != find2):\n",
    "        print(\"error\")"
   ]
  },
  {
   "cell_type": "markdown",
   "metadata": {},
   "source": [
    "## 2. sheet of (룰설정)참조무결성 : verify common values of two columns "
   ]
  },
  {
   "cell_type": "code",
   "execution_count": 93,
   "metadata": {},
   "outputs": [],
   "source": [
    "for i in range(len(cham)):\n",
    "    if (cham['진단테이블'][i] == cham['참조테이블'][i]):\n",
    "        print(i, \"error\")"
   ]
  },
  {
   "cell_type": "markdown",
   "metadata": {},
   "source": [
    "## 3. sheet of (룰설정)업무규칙 : uniqueness of the values of a column "
   ]
  },
  {
   "cell_type": "code",
   "execution_count": 94,
   "metadata": {},
   "outputs": [
    {
     "data": {
      "text/plain": [
       "0     False\n",
       "1     False\n",
       "2     False\n",
       "3     False\n",
       "4     False\n",
       "5     False\n",
       "6     False\n",
       "7     False\n",
       "8     False\n",
       "9     False\n",
       "10    False\n",
       "11    False\n",
       "12    False\n",
       "13    False\n",
       "14    False\n",
       "15    False\n",
       "16    False\n",
       "17    False\n",
       "18    False\n",
       "19    False\n",
       "dtype: bool"
      ]
     },
     "execution_count": 94,
     "metadata": {},
     "output_type": "execute_result"
    }
   ],
   "source": [
    "up.duplicated('업무규칙ID')"
   ]
  },
  {
   "cell_type": "markdown",
   "metadata": {},
   "source": [
    "## 4. sheet of (진단실행)진단항목오류정보 : verify the null values of three columns "
   ]
  },
  {
   "cell_type": "code",
   "execution_count": 95,
   "metadata": {},
   "outputs": [
    {
     "name": "stdout",
     "output_type": "stream",
     "text": [
      "0\n",
      "0\n",
      "0\n"
     ]
    }
   ],
   "source": [
    "print(jindan['전체건수'].isnull().sum())\n",
    "print(jindan['오류건수'].isnull().sum())\n",
    "print(jindan['오류율'].isnull().sum())\n"
   ]
  },
  {
   "cell_type": "markdown",
   "metadata": {},
   "source": [
    "## 5. Error verification summary - 8 files \n",
    "1. 체납처분 : no\n",
    "2. 체납: no \n",
    "3. 취득세: no \n",
    "4. 과세공통: no \n",
    "5. 자동차세: no \n",
    "6. 재산세: no\n",
    "7. 주민세: no \n",
    "8. 납세자: no \n"
   ]
  },
  {
   "cell_type": "code",
   "execution_count": null,
   "metadata": {},
   "outputs": [],
   "source": [
    "\n"
   ]
  }
 ],
 "metadata": {
  "kernelspec": {
   "display_name": "Python 3",
   "language": "python",
   "name": "python3"
  },
  "language_info": {
   "codemirror_mode": {
    "name": "ipython",
    "version": 3
   },
   "file_extension": ".py",
   "mimetype": "text/x-python",
   "name": "python",
   "nbconvert_exporter": "python",
   "pygments_lexer": "ipython3",
   "version": "3.8.3"
  }
 },
 "nbformat": 4,
 "nbformat_minor": 4
}
